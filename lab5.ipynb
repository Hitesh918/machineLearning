{
  "cells": [
    {
      "cell_type": "code",
      "execution_count": 2,
      "id": "4cedc66f-fcf4-4fc5-8274-6396ef3fe77f",
      "metadata": {
        "colab": {
          "base_uri": "https://localhost:8080/"
        },
        "id": "4cedc66f-fcf4-4fc5-8274-6396ef3fe77f",
        "outputId": "82218b19-04dc-4009-ea2a-6e1a4bb456a5"
      },
      "outputs": [
        {
          "output_type": "stream",
          "name": "stdout",
          "text": [
            "   Header_and_Main_Declaration  Incomprehensible_Code  \\\n",
            "0                            2                    2.0   \n",
            "1                            2                    2.0   \n",
            "2                            2                    2.0   \n",
            "3                            2                    1.0   \n",
            "4                            2                    2.0   \n",
            "\n",
            "   Comprehensible_Code_with_logical_errors  \\\n",
            "0                                        2   \n",
            "1                                        2   \n",
            "2                                        1   \n",
            "3                                        1   \n",
            "4                                        1   \n",
            "\n",
            "   Comprehensible_code_with_syntax_errors  Correct_code_and_output  \\\n",
            "0                                     2.0                        2   \n",
            "1                                     2.0                        0   \n",
            "2                                     1.0                        1   \n",
            "3                                     1.0                        0   \n",
            "4                                     1.0                        0   \n",
            "\n",
            "   Final_Marks  \n",
            "0           10  \n",
            "1            8  \n",
            "2            7  \n",
            "3            5  \n",
            "4            6  \n"
          ]
        }
      ],
      "source": [
        "#importing necessary libraries\n",
        "import pandas as pd\n",
        "import numpy as np\n",
        "\n",
        "#function to read the the dataset , fill the missing values with mean method and crop it to columns on which we have to work on , the other columns are code snippets\n",
        "def read_data(file_name):\n",
        "    df = pd.read_excel(file_name)\n",
        "    #to calculate the mean of all numeric columns in the dataFrame, ignoring the non-numeric data.\n",
        "    df = df.fillna(df.mean(numeric_only=True))\n",
        "    df = df.iloc[:, 4:10]\n",
        "    return df\n",
        "\n",
        "df = read_data('dataset.xlsx')\n",
        "\n",
        "print(df.head())\n"
      ]
    },
    {
      "cell_type": "markdown",
      "source": [
        "ans1)"
      ],
      "metadata": {
        "id": "Q3vMZzkHtiIy"
      },
      "id": "Q3vMZzkHtiIy"
    },
    {
      "cell_type": "code",
      "execution_count": 3,
      "id": "96218e3f-8c15-444a-84f4-dbfd81325108",
      "metadata": {
        "colab": {
          "base_uri": "https://localhost:8080/",
          "height": 74
        },
        "id": "96218e3f-8c15-444a-84f4-dbfd81325108",
        "outputId": "3dbfb313-b679-4d56-da07-97efc84449c6"
      },
      "outputs": [
        {
          "output_type": "execute_result",
          "data": {
            "text/plain": [
              "LinearRegression()"
            ],
            "text/html": [
              "<style>#sk-container-id-1 {color: black;}#sk-container-id-1 pre{padding: 0;}#sk-container-id-1 div.sk-toggleable {background-color: white;}#sk-container-id-1 label.sk-toggleable__label {cursor: pointer;display: block;width: 100%;margin-bottom: 0;padding: 0.3em;box-sizing: border-box;text-align: center;}#sk-container-id-1 label.sk-toggleable__label-arrow:before {content: \"▸\";float: left;margin-right: 0.25em;color: #696969;}#sk-container-id-1 label.sk-toggleable__label-arrow:hover:before {color: black;}#sk-container-id-1 div.sk-estimator:hover label.sk-toggleable__label-arrow:before {color: black;}#sk-container-id-1 div.sk-toggleable__content {max-height: 0;max-width: 0;overflow: hidden;text-align: left;background-color: #f0f8ff;}#sk-container-id-1 div.sk-toggleable__content pre {margin: 0.2em;color: black;border-radius: 0.25em;background-color: #f0f8ff;}#sk-container-id-1 input.sk-toggleable__control:checked~div.sk-toggleable__content {max-height: 200px;max-width: 100%;overflow: auto;}#sk-container-id-1 input.sk-toggleable__control:checked~label.sk-toggleable__label-arrow:before {content: \"▾\";}#sk-container-id-1 div.sk-estimator input.sk-toggleable__control:checked~label.sk-toggleable__label {background-color: #d4ebff;}#sk-container-id-1 div.sk-label input.sk-toggleable__control:checked~label.sk-toggleable__label {background-color: #d4ebff;}#sk-container-id-1 input.sk-hidden--visually {border: 0;clip: rect(1px 1px 1px 1px);clip: rect(1px, 1px, 1px, 1px);height: 1px;margin: -1px;overflow: hidden;padding: 0;position: absolute;width: 1px;}#sk-container-id-1 div.sk-estimator {font-family: monospace;background-color: #f0f8ff;border: 1px dotted black;border-radius: 0.25em;box-sizing: border-box;margin-bottom: 0.5em;}#sk-container-id-1 div.sk-estimator:hover {background-color: #d4ebff;}#sk-container-id-1 div.sk-parallel-item::after {content: \"\";width: 100%;border-bottom: 1px solid gray;flex-grow: 1;}#sk-container-id-1 div.sk-label:hover label.sk-toggleable__label {background-color: #d4ebff;}#sk-container-id-1 div.sk-serial::before {content: \"\";position: absolute;border-left: 1px solid gray;box-sizing: border-box;top: 0;bottom: 0;left: 50%;z-index: 0;}#sk-container-id-1 div.sk-serial {display: flex;flex-direction: column;align-items: center;background-color: white;padding-right: 0.2em;padding-left: 0.2em;position: relative;}#sk-container-id-1 div.sk-item {position: relative;z-index: 1;}#sk-container-id-1 div.sk-parallel {display: flex;align-items: stretch;justify-content: center;background-color: white;position: relative;}#sk-container-id-1 div.sk-item::before, #sk-container-id-1 div.sk-parallel-item::before {content: \"\";position: absolute;border-left: 1px solid gray;box-sizing: border-box;top: 0;bottom: 0;left: 50%;z-index: -1;}#sk-container-id-1 div.sk-parallel-item {display: flex;flex-direction: column;z-index: 1;position: relative;background-color: white;}#sk-container-id-1 div.sk-parallel-item:first-child::after {align-self: flex-end;width: 50%;}#sk-container-id-1 div.sk-parallel-item:last-child::after {align-self: flex-start;width: 50%;}#sk-container-id-1 div.sk-parallel-item:only-child::after {width: 0;}#sk-container-id-1 div.sk-dashed-wrapped {border: 1px dashed gray;margin: 0 0.4em 0.5em 0.4em;box-sizing: border-box;padding-bottom: 0.4em;background-color: white;}#sk-container-id-1 div.sk-label label {font-family: monospace;font-weight: bold;display: inline-block;line-height: 1.2em;}#sk-container-id-1 div.sk-label-container {text-align: center;}#sk-container-id-1 div.sk-container {/* jupyter's `normalize.less` sets `[hidden] { display: none; }` but bootstrap.min.css set `[hidden] { display: none !important; }` so we also need the `!important` here to be able to override the default hidden behavior on the sphinx rendered scikit-learn.org. See: https://github.com/scikit-learn/scikit-learn/issues/21755 */display: inline-block !important;position: relative;}#sk-container-id-1 div.sk-text-repr-fallback {display: none;}</style><div id=\"sk-container-id-1\" class=\"sk-top-container\"><div class=\"sk-text-repr-fallback\"><pre>LinearRegression()</pre><b>In a Jupyter environment, please rerun this cell to show the HTML representation or trust the notebook. <br />On GitHub, the HTML representation is unable to render, please try loading this page with nbviewer.org.</b></div><div class=\"sk-container\" hidden><div class=\"sk-item\"><div class=\"sk-estimator sk-toggleable\"><input class=\"sk-toggleable__control sk-hidden--visually\" id=\"sk-estimator-id-1\" type=\"checkbox\" checked><label for=\"sk-estimator-id-1\" class=\"sk-toggleable__label sk-toggleable__label-arrow\">LinearRegression</label><div class=\"sk-toggleable__content\"><pre>LinearRegression()</pre></div></div></div></div></div>"
            ]
          },
          "metadata": {},
          "execution_count": 3
        }
      ],
      "source": [
        "#this is a utility function which helps us to split dataset into testing and traing data , different combinations are tried , whichever gives best output , we have that split of data\n",
        "from sklearn.model_selection import train_test_split\n",
        "#this imports the LinearRegression class from the sklearn.linear_model module, used for fitting linear models.\n",
        "from sklearn.linear_model import LinearRegression\n",
        "\n",
        "#function to perform the split of training and testing data , it takes the data that has to be split as parameters,the test_size parameter in train_test_split specifies the proportion of the dataset to include in the test set.\n",
        "def trainTestSplit(X, y):\n",
        "    X_train, X_test, y_train, y_test = train_test_split(X, y, test_size=0.2, random_state=42)\n",
        "    return X_train, X_test, y_train, y_test\n",
        "\n",
        "#function to train the model , taking training data as parameters\n",
        "def modelTrain(X_train, y_train):\n",
        "    #.fit() method is used to train the model , it takes the training data as input\n",
        "    reg = LinearRegression().fit(X_train, y_train)\n",
        "    #.perdict() method to predictions based on trained model , it takes the data for which the prediction has to be made as a parameter\n",
        "    y_train_pred = reg.predict(X_train)\n",
        "    return reg\n",
        "\n",
        "#passing out data for train_test split\n",
        "X_train, X_test, y_train, y_test = trainTestSplit(df[['Correct_code_and_output']], df['Final_Marks'])\n",
        "\n",
        "model = modelTrain(X_train, y_train)\n",
        "model"
      ]
    },
    {
      "cell_type": "markdown",
      "source": [
        "ans2)"
      ],
      "metadata": {
        "id": "Zlx7yEaau3dz"
      },
      "id": "Zlx7yEaau3dz"
    },
    {
      "cell_type": "code",
      "execution_count": 4,
      "id": "7e2a7767-3016-404e-93ff-50b536f8f017",
      "metadata": {
        "colab": {
          "base_uri": "https://localhost:8080/"
        },
        "id": "7e2a7767-3016-404e-93ff-50b536f8f017",
        "outputId": "054ebf54-3203-401b-ffa1-84a2777eadf6"
      },
      "outputs": [
        {
          "output_type": "stream",
          "name": "stdout",
          "text": [
            "Training Set Metrics:\n",
            "MSE: 2.64, RMSE: 1.63, MAPE: 11096952697985274.00%, R²: 0.43\n",
            "\n",
            "Testing Set Metrics:\n",
            "MSE: 2.74, RMSE: 1.65, MAPE: 17679890739162960.00%, R²: 0.36\n"
          ]
        }
      ],
      "source": [
        "#these are the various function used the evaluate our model's performance\n",
        "from sklearn.metrics import mean_squared_error, mean_absolute_percentage_error, r2_score\n",
        "\n",
        "# Function to evaluate the model's performance , it takes the actual and predicted values as input\n",
        "def modelEvaluate(y_true, y_pred):\n",
        "    mse = mean_squared_error(y_true, y_pred)\n",
        "    #.sqrt() is square root , math function present in numpy\n",
        "    rmse = np.sqrt(mse)\n",
        "    mape = mean_absolute_percentage_error(y_true, y_pred)\n",
        "    r2 = r2_score(y_true, y_pred)\n",
        "    return mse, rmse, mape, r2\n",
        "\n",
        "#predicting values for training data\n",
        "y_train_pred = model.predict(X_train)\n",
        "#predicting values for testing data\n",
        "y_test_pred = model.predict(X_test)\n",
        "\n",
        "#evaluating the model\n",
        "train_mse, train_rmse, train_mape, train_r2 = modelEvaluate(y_train, y_train_pred)\n",
        "test_mse, test_rmse, test_mape, test_r2 = modelEvaluate(y_test, y_test_pred)\n",
        "\n",
        "print(\"Training Set Metrics:\")\n",
        "print(f\"MSE: {train_mse:.2f}, RMSE: {train_rmse:.2f}, MAPE: {train_mape:.2%}, R²: {train_r2:.2f}\")\n",
        "print(\"\\nTesting Set Metrics:\")\n",
        "print(f\"MSE: {test_mse:.2f}, RMSE: {test_rmse:.2f}, MAPE: {test_mape:.2%}, R²: {test_r2:.2f}\")\n"
      ]
    },
    {
      "cell_type": "code",
      "execution_count": 5,
      "id": "1cb0afc5-5562-4a55-a870-48c32a6d75b4",
      "metadata": {
        "id": "1cb0afc5-5562-4a55-a870-48c32a6d75b4"
      },
      "outputs": [],
      "source": [
        "df = read_data('dataset.xlsx')"
      ]
    },
    {
      "cell_type": "markdown",
      "source": [
        "ans3)"
      ],
      "metadata": {
        "id": "zn9KLbXZyUOw"
      },
      "id": "zn9KLbXZyUOw"
    },
    {
      "cell_type": "code",
      "execution_count": 6,
      "id": "83f1c4fd-4699-47bc-879c-9e89b062cb77",
      "metadata": {
        "colab": {
          "base_uri": "https://localhost:8080/"
        },
        "id": "83f1c4fd-4699-47bc-879c-9e89b062cb77",
        "outputId": "4a28e09b-f8f2-4056-d1bc-1b78dd83b86c"
      },
      "outputs": [
        {
          "output_type": "stream",
          "name": "stdout",
          "text": [
            "Training Set Metrics:\n",
            "MSE: 0.00, RMSE: 0.06, MAPE: 935317922098.07%, R²: 1.00\n",
            "\n",
            "Testing Set Metrics:\n",
            "MSE: 0.00, RMSE: 0.00, MAPE: 1490167536901.79%, R²: 1.00\n"
          ]
        }
      ],
      "source": [
        "#This selects the last column of the DataFrame df and assigns it to y.\n",
        "y = df.iloc[:,-1]\n",
        "#dropping final marks column\n",
        "X = df.drop('Final_Marks',axis = 1)\n",
        "#splitting the data\n",
        "X_train, X_test, y_train, y_test = trainTestSplit(X, y)\n",
        "\n",
        "# Train the model\n",
        "model = modelTrain(X_train, y_train)\n",
        "y_train_pred = model.predict(X_train)\n",
        "y_test_pred = model.predict(X_test)\n",
        "\n",
        "#evaluating our model\n",
        "train_mse, train_rmse, train_mape, train_r2 = modelEvaluate(y_train, y_train_pred)\n",
        "test_mse, test_rmse, test_mape, test_r2 = modelEvaluate(y_test, y_test_pred)\n",
        "\n",
        "print(\"Training Set Metrics:\")\n",
        "print(f\"MSE: {train_mse:.2f}, RMSE: {train_rmse:.2f}, MAPE: {train_mape:.2%}, R²: {train_r2:.2f}\")\n",
        "print(\"\\nTesting Set Metrics:\")\n",
        "print(f\"MSE: {test_mse:.2f}, RMSE: {test_rmse:.2f}, MAPE: {test_mape:.2%}, R²: {test_r2:.2f}\")\n"
      ]
    },
    {
      "cell_type": "markdown",
      "source": [
        "ans4)"
      ],
      "metadata": {
        "id": "GC4oGiQ21CXm"
      },
      "id": "GC4oGiQ21CXm"
    },
    {
      "cell_type": "code",
      "execution_count": 7,
      "id": "b6c53046-57da-4ddd-a06c-fe57e93cfce1",
      "metadata": {
        "colab": {
          "base_uri": "https://localhost:8080/"
        },
        "id": "b6c53046-57da-4ddd-a06c-fe57e93cfce1",
        "outputId": "16eedae7-bab0-463b-c77c-141018ff49d8"
      },
      "outputs": [
        {
          "output_type": "stream",
          "name": "stdout",
          "text": [
            "   Header_and_Main_Declaration  Incomprehensible_Code  \\\n",
            "0                            2                    2.0   \n",
            "1                            2                    2.0   \n",
            "2                            2                    2.0   \n",
            "3                            2                    1.0   \n",
            "4                            2                    2.0   \n",
            "\n",
            "   Comprehensible_Code_with_logical_errors  \\\n",
            "0                                        2   \n",
            "1                                        2   \n",
            "2                                        1   \n",
            "3                                        1   \n",
            "4                                        1   \n",
            "\n",
            "   Comprehensible_code_with_syntax_errors  Correct_code_and_output  \\\n",
            "0                                     2.0                        2   \n",
            "1                                     2.0                        0   \n",
            "2                                     1.0                        1   \n",
            "3                                     1.0                        0   \n",
            "4                                     1.0                        0   \n",
            "\n",
            "   Final_Marks  Cluster  \n",
            "0           10        1  \n",
            "1            8        1  \n",
            "2            7        1  \n",
            "3            5        0  \n",
            "4            6        1  \n",
            "Cluster Centers:\n",
            " [[1.66796117 0.17475728 0.87184466 0.96903789 0.22718447]\n",
            " [1.84720121 1.9306531  1.19667171 1.12111122 0.65204236]]\n"
          ]
        },
        {
          "output_type": "stream",
          "name": "stderr",
          "text": [
            "/usr/local/lib/python3.10/dist-packages/sklearn/cluster/_kmeans.py:1416: FutureWarning: The default value of `n_init` will change from 10 to 'auto' in 1.4. Set the value of `n_init` explicitly to suppress the warning\n",
            "  super()._check_params_vs_input(X, default_n_init=10)\n"
          ]
        }
      ],
      "source": [
        "#This imports the KMeans class from sklearn.cluster, used for performing K-means clustering.\n",
        "from sklearn.cluster import KMeans\n",
        "\n",
        "# function to drop a given column in a dataframe\n",
        "def prepare_data(df, target_column):\n",
        "    X = df.drop(columns=[target_column])\n",
        "    return X\n",
        "\n",
        "# function to perform kMeansClustering , it takes the data and number of clusters as input\n",
        "def process(X, n_clusters=3):\n",
        "    model = KMeans(n_clusters=n_clusters, random_state=42)\n",
        "    model.fit(X)\n",
        "    return model\n",
        "\n",
        "#This function addLabels adds a new column 'Cluster' to the DataFrame df\n",
        "def addLabels(df, kmeans):\n",
        "  #.labels_ is an attribute of a fitted clustering model to store the cluster labels\n",
        "    df['Cluster'] = kmeans.labels_\n",
        "    return df\n",
        "\n",
        "#main function , we preProcess the data , perform the clustering and add labels , if number of clusters is not mentioned , we do it for 3\n",
        "def main(df, target_column, n_clusters=3):\n",
        "    X = prepare_data(df, target_column)\n",
        "    kmeans = process(X, n_clusters)\n",
        "    updatedDf = addLabels(df, kmeans)\n",
        "    return updatedDf, kmeans\n",
        "\n",
        "updatedDf, kmeansModel = main(df, target_column='Final_Marks', n_clusters=2)\n",
        "\n",
        "print(updatedDf.head())\n",
        "print(\"Cluster Centers:\\n\", kmeansModel.cluster_centers_)"
      ]
    }
  ],
  "metadata": {
    "kernelspec": {
      "display_name": "Python 3 (ipykernel)",
      "language": "python",
      "name": "python3"
    },
    "language_info": {
      "codemirror_mode": {
        "name": "ipython",
        "version": 3
      },
      "file_extension": ".py",
      "mimetype": "text/x-python",
      "name": "python",
      "nbconvert_exporter": "python",
      "pygments_lexer": "ipython3",
      "version": "3.11.7"
    },
    "colab": {
      "provenance": []
    }
  },
  "nbformat": 4,
  "nbformat_minor": 5
}
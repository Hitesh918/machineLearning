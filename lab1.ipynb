{
  "nbformat": 4,
  "nbformat_minor": 0,
  "metadata": {
    "colab": {
      "provenance": []
    },
    "kernelspec": {
      "name": "python3",
      "display_name": "Python 3"
    },
    "language_info": {
      "name": "python"
    }
  },
  "cells": [
    {
      "cell_type": "code",
      "execution_count": null,
      "metadata": {
        "colab": {
          "base_uri": "https://localhost:8080/"
        },
        "id": "VdexurFInCUz",
        "outputId": "3deaa6f2-3015-4a89-c3a9-f482d0f70746"
      },
      "outputs": [
        {
          "output_type": "stream",
          "name": "stdout",
          "text": [
            "enter input string of alphabets \n",
            "qwertyuiop\n",
            "vowel_count is  4\n",
            "consonant_count is  6\n"
          ]
        }
      ],
      "source": [
        "#program to count number of vowels and consonants in a given string\n",
        "\n",
        "def qn1(str):\n",
        "  vowels='aeiouAEIOU'\n",
        "  vowel_count=0\n",
        "  #we initialize the vowel_count variable to 0 and traverse the string. if the character of string is present in predefined vowels string , we increment the count\n",
        "  for char in str:\n",
        "    if char in vowels:\n",
        "      vowel_count=vowel_count+1\n",
        "  print(\"vowel_count is \" , vowel_count)\n",
        "  print(\"consonant_count is \" , (len(str) - vowel_count))\n",
        "\n",
        "str=input(\"enter input string of alphabets \\n\")\n",
        "qn1(str)"
      ]
    },
    {
      "cell_type": "code",
      "source": [
        "#product of 2 matrices\n",
        "\n",
        "#function to find the product\n",
        "def qn2(matrix1 , matrix2):\n",
        "\n",
        "  row1=len(matrix1)\n",
        "  col1=len(matrix1[0])\n",
        "  row2=len(matrix2)\n",
        "  col2=len(matrix2[0])\n",
        "\n",
        "  product=[]\n",
        "  for i in range(row1):\n",
        "    row=[]\n",
        "    for j in range(col2):\n",
        "      row.append(0)\n",
        "    product.append(row)\n",
        "\n",
        "  for i in range(row1):\n",
        "    for j in range(col2):\n",
        "      for k in range(col1):\n",
        "        product[i][j]=product[i][j]+(matrix1[i][k]*matrix2[k][j])\n",
        "  print(product)\n",
        "\n",
        "\n",
        "#taking user input\n",
        "row1=int(input(\"enter number of rows of first matrix \\n\"))\n",
        "col1=int(input(\"enter number of columns of first matrix \\n\"))\n",
        "row2=int(input(\"enter number of rows of second matrix \\n\"))\n",
        "col2=int(input(\"enter number of columns of second matrix \\n\"))\n",
        "\n",
        "#only if number of columns in first matrix and number of rows in second matrix are equal , we can find the product\n",
        "if row2==col1:\n",
        "  matrix1=[]\n",
        "  for i in range(row1):\n",
        "    row=[]\n",
        "    for j in range(col1):\n",
        "      row.append(int(input()))\n",
        "    matrix1.append(row)\n",
        "\n",
        "  matrix2=[]\n",
        "  for i in range(row2):\n",
        "    row=[]\n",
        "    for j in range(col2):\n",
        "      row.append(int(input()))\n",
        "    matrix2.append(row)\n",
        "  qn2(matrix1 , matrix2)\n",
        "else:\n",
        "    print(\"product not possible\")\n",
        "\n",
        "\n"
      ],
      "metadata": {
        "colab": {
          "base_uri": "https://localhost:8080/"
        },
        "id": "U307LDEetY83",
        "outputId": "df38eda7-dc85-4ecc-ddcf-392e8bd1d6c2"
      },
      "execution_count": null,
      "outputs": [
        {
          "output_type": "stream",
          "name": "stdout",
          "text": [
            "enter number of rows of first matrix \n",
            "1\n",
            "enter number of columns of first matrix \n",
            "2\n",
            "enter number of rows of second matrix \n",
            "2\n",
            "enter number of columns of second matrix \n",
            "1\n",
            "3\n",
            "6\n",
            "6\n",
            "9\n",
            "[[72]]\n"
          ]
        }
      ]
    },
    {
      "cell_type": "code",
      "source": [
        "#common elements between 2 integer lists\n",
        "\n",
        "def qn3(list1 , list2):\n",
        "  n1=len(list1)\n",
        "  n2=len(list2)\n",
        "  #we make new list to store common elements\n",
        "  common=[]\n",
        "  for i in list1:\n",
        "    if i in list2:\n",
        "      common.append(i)\n",
        "  print(common)\n",
        "\n",
        "\n",
        "#taking user input\n",
        "list1=[]\n",
        "list2=[]\n",
        "n1=int(input(\"enter number of elements in first list \\n\"))\n",
        "n2=int(input(\"enter number of elements in second list \\n\"))\n",
        "for i in range(n1):\n",
        "  list1.append(int(input()))\n",
        "for i in range(n2):\n",
        "  list2.append(int(input()))\n",
        "qn3(list1 , list2)"
      ],
      "metadata": {
        "colab": {
          "base_uri": "https://localhost:8080/"
        },
        "id": "nPGZBmRPusif",
        "outputId": "06f08f2a-8f02-4f15-fe16-91bd4f5e2590"
      },
      "execution_count": null,
      "outputs": [
        {
          "output_type": "stream",
          "name": "stdout",
          "text": [
            "enter number of elements in first list \n",
            "2\n",
            "enter number of elements in second list \n",
            "3\n",
            "1\n",
            "2\n",
            "3\n",
            "2\n",
            "3\n",
            "[2]\n"
          ]
        }
      ]
    },
    {
      "cell_type": "code",
      "source": [
        "#transpose of a matrix\n",
        "\n",
        "def qn4(matrix):\n",
        "  rows=len(matrix)\n",
        "  cols=len(matrix[0])\n",
        "\n",
        "  transpose=[]\n",
        "  for i in range(cols):\n",
        "    row=[]\n",
        "    for j in range(rows):\n",
        "      row.append(matrix[j][i])\n",
        "    transpose.append(row)\n",
        "  print(transpose)\n",
        "\n",
        "\n",
        "#user input\n",
        "rows=int(input(\"enter number of rows \\n\"))\n",
        "cols=int(input(\"enter number of columns \\n\"))\n",
        "matrix=[]\n",
        "for i in range(rows):\n",
        "  row=[]\n",
        "  for j in range(cols):\n",
        "    row.append(int(input()))\n",
        "  matrix.append(row)\n",
        "qn4(matrix)"
      ],
      "metadata": {
        "colab": {
          "base_uri": "https://localhost:8080/"
        },
        "id": "bYGtG_WZouPb",
        "outputId": "7a187013-dcfe-4e60-c6b5-d13a6f125f3d"
      },
      "execution_count": null,
      "outputs": [
        {
          "output_type": "stream",
          "name": "stdout",
          "text": [
            "enter number of rows \n",
            "3\n",
            "enter number of columns \n",
            "2\n",
            "1\n",
            "2\n",
            "3\n",
            "4\n",
            "5\n",
            "6\n",
            "[[1, 3, 5], [2, 4, 6]]\n"
          ]
        }
      ]
    },
    {
      "cell_type": "code",
      "source": [],
      "metadata": {
        "id": "Cx-iTl13sM0P"
      },
      "execution_count": null,
      "outputs": []
    }
  ]
}